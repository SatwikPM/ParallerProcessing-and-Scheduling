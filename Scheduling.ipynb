{
 "cells": [
  {
   "cell_type": "raw",
   "metadata": {},
   "source": [
    "# Schedule is in-process scheduler for periodic jobs that use the builder pattern for configuration. Schedule lets you run Python functions (or any other callable) periodically at pre-determined intervals using a simple, human-friendly syntax."
   ]
  },
  {
   "cell_type": "raw",
   "metadata": {},
   "source": [
    "Schedule Library is used to schedule a task at a particular time every day or a particular day of a week. "
   ]
  },
  {
   "cell_type": "raw",
   "metadata": {},
   "source": [
    "We can also set time in 24 hours format that when a task should run. Basically, Schedule Library matches your systems time to that of scheduled time set by you. Once the scheduled time and system time matches the job function (command function that is scheduled ) is called."
   ]
  },
  {
   "cell_type": "code",
   "execution_count": null,
   "metadata": {},
   "outputs": [],
   "source": [
    "! pip install schedule "
   ]
  },
  {
   "cell_type": "code",
   "execution_count": null,
   "metadata": {},
   "outputs": [],
   "source": [
    "# Schedule Library imported \n",
    "import schedule \n",
    "import time \n",
    "  \n",
    "# Functions setup \n",
    "def sudo_placement(): \n",
    "    print(\"Get ready for Sudo Placement \") \n",
    "def good_luck(): \n",
    "    print(\"Good Luck for Test\") \n",
    "def work(): \n",
    "    print(\"Study and work hard\") \n",
    "def bedtime(): \n",
    "    print(\"It is bed time go rest\") \n",
    "      \n",
    "def geeks(): \n",
    "    print(\"Shaurya says Hi\") \n",
    "  \n",
    "# Task scheduling \n",
    "# After every 10sec geeks() is called.  \n",
    "schedule.every(10).seconds.do(geeks)# i want to execute this process every 10 seconds\n",
    "schedule.every(1).seconds.do(sudo_placement)# i want to execute this process every 1 seconds\n",
    "schedule.every(2).seconds.do(work)# i want to execute this process every 2 seconds\n",
    "schedule.every(3).seconds.do(good_luck)# i want to execute this process every 3 seconds\n",
    "schedule.every(10).seconds.do(bedtime)\n",
    "  \n",
    "\n",
    "while True: \n",
    "  \n",
    "    # Checks whether a scheduled task  \n",
    "    # is pending to run or not \n",
    "    schedule.run_pending() \n",
    "    time.sleep(1) "
   ]
  },
  {
   "cell_type": "code",
   "execution_count": null,
   "metadata": {},
   "outputs": [],
   "source": [
    " After every hour geeks() is called. \n",
    "schedule.every().hour.do(geeks) \n",
    "  \n",
    "# Every day at 12am or 00:00 time bedtime() is called. \n",
    "schedule.every().day.at(\"00:00\").do(bedtime) \n",
    "  \n",
    "# After every 5 to 10mins in between run work() \n",
    "schedule.every(5).to(10).minutes.do(work) \n",
    "  \n",
    "# Every monday good_luck() is called \n",
    "schedule.every().monday.at(\"09:00\").do(good_luck) \n",
    "  \n",
    "# Every tuesday at 18:00 sudo_placement() is called \n",
    "schedule.every().tuesday.at(\"18:00\").do(sudo_placement) \n",
    "  \n",
    "# Loop so that the scheduling task \n",
    "# keeps on running all time. "
   ]
  },
  {
   "cell_type": "raw",
   "metadata": {},
   "source": [
    "schedule.Scheduler class\n",
    "schedule.every(interval=1) : Calls every on the default scheduler instance. Schedule a new periodic job.\n",
    "schedule.run_pending() : Calls run_pending on the default scheduler instance. Run all jobs that are scheduled to run.\n",
    "schedule.run_all(delay_seconds=0) : Calls run_all on the default scheduler instance. Run all jobs regardless if they are scheduled to run or not.\n",
    "schedule.idle_seconds() : Calls idle_seconds on the default scheduler instance.\n",
    "schedule.next_run() : Calls next_run on the default scheduler instance. Datetime when the next job should run.\n",
    "schedule.cancel_job(job) : Calls cancel_job on the default scheduler instance. Delete a scheduled job."
   ]
  },
  {
   "cell_type": "raw",
   "metadata": {},
   "source": [
    "Basic methods for Schedule.job\n",
    "at(time_str) : Schedule the job every day at a specific time. Calling this is only valid for jobs scheduled to run every N day(s). \n",
    "Parameters: time_str – A string in XX:YY format.\n",
    "Returns: The invoked job instance\n",
    "do(job_func, *args, **kwargs) : Specifies the job_func that should be called every time the job runs. Any additional arguments are passed on to job_func when the job runs. \n",
    "Parameters: job_func – The function to be scheduled\n",
    "Returns: The invoked job instance\n",
    "run() : Run the job and immediately reschedule it.\n",
    "Returns: The return value returned by the job_func\n",
    "to(latest) : Schedule the job to run at an irregular (randomized) interval. For example, every(A).to(B).seconds executes the job function every N seconds such that A <= N <= B."
   ]
  },
  {
   "cell_type": "code",
   "execution_count": null,
   "metadata": {},
   "outputs": [
    {
     "name": "stdout",
     "output_type": "stream",
     "text": [
      "Getting Bitcoin Price\n",
      "{'code': 'USD', 'symbol': '&#36;', 'rate': '8,823.1318', 'description': 'United States Dollar', 'rate_float': 8823.1318}\n",
      "Getting bitcoin price in:  GBP\n",
      "{'code': 'GBP', 'symbol': '&pound;', 'rate': '7,057.3761', 'description': 'British Pound Sterling', 'rate_float': 7057.3761}\n",
      "Getting bitcoin price in:  EUR\n",
      "{'code': 'EUR', 'symbol': '&euro;', 'rate': '7,952.7122', 'description': 'Euro', 'rate_float': 7952.7122}\n",
      "Getting Bitcoin Price\n",
      "{'code': 'USD', 'symbol': '&#36;', 'rate': '8,823.1318', 'description': 'United States Dollar', 'rate_float': 8823.1318}\n",
      "Getting bitcoin price in:  GBP\n",
      "{'code': 'GBP', 'symbol': '&pound;', 'rate': '7,057.3761', 'description': 'British Pound Sterling', 'rate_float': 7057.3761}\n",
      "Getting bitcoin price in:  EUR\n",
      "{'code': 'EUR', 'symbol': '&euro;', 'rate': '7,952.7122', 'description': 'Euro', 'rate_float': 7952.7122}\n",
      "Getting Bitcoin Price\n",
      "{'code': 'USD', 'symbol': '&#36;', 'rate': '8,823.1318', 'description': 'United States Dollar', 'rate_float': 8823.1318}\n",
      "Getting bitcoin price in:  GBP\n",
      "{'code': 'GBP', 'symbol': '&pound;', 'rate': '7,057.3761', 'description': 'British Pound Sterling', 'rate_float': 7057.3761}\n",
      "Getting bitcoin price in:  EUR\n",
      "{'code': 'EUR', 'symbol': '&euro;', 'rate': '7,952.7122', 'description': 'Euro', 'rate_float': 7952.7122}\n",
      "Getting Bitcoin Price\n",
      "{'code': 'USD', 'symbol': '&#36;', 'rate': '8,823.1318', 'description': 'United States Dollar', 'rate_float': 8823.1318}\n",
      "Getting bitcoin price in:  GBP\n",
      "{'code': 'GBP', 'symbol': '&pound;', 'rate': '7,057.3761', 'description': 'British Pound Sterling', 'rate_float': 7057.3761}\n",
      "Getting bitcoin price in:  EUR\n",
      "{'code': 'EUR', 'symbol': '&euro;', 'rate': '7,952.7122', 'description': 'Euro', 'rate_float': 7952.7122}\n",
      "Getting Bitcoin Price\n",
      "{'code': 'USD', 'symbol': '&#36;', 'rate': '8,823.1318', 'description': 'United States Dollar', 'rate_float': 8823.1318}\n",
      "Getting bitcoin price in:  GBP\n",
      "{'code': 'GBP', 'symbol': '&pound;', 'rate': '7,057.3761', 'description': 'British Pound Sterling', 'rate_float': 7057.3761}\n",
      "Getting bitcoin price in:  EUR\n",
      "{'code': 'EUR', 'symbol': '&euro;', 'rate': '7,952.7122', 'description': 'Euro', 'rate_float': 7952.7122}\n",
      "Getting Bitcoin Price\n",
      "{'code': 'USD', 'symbol': '&#36;', 'rate': '8,823.1318', 'description': 'United States Dollar', 'rate_float': 8823.1318}\n",
      "Getting bitcoin price in:  GBP\n",
      "{'code': 'GBP', 'symbol': '&pound;', 'rate': '7,057.3761', 'description': 'British Pound Sterling', 'rate_float': 7057.3761}\n",
      "Getting bitcoin price in:  EUR\n",
      "{'code': 'EUR', 'symbol': '&euro;', 'rate': '7,952.7122', 'description': 'Euro', 'rate_float': 7952.7122}\n",
      "Getting Bitcoin Price\n",
      "{'code': 'USD', 'symbol': '&#36;', 'rate': '8,823.1318', 'description': 'United States Dollar', 'rate_float': 8823.1318}\n",
      "Getting bitcoin price in:  GBP\n",
      "{'code': 'GBP', 'symbol': '&pound;', 'rate': '7,057.3761', 'description': 'British Pound Sterling', 'rate_float': 7057.3761}\n",
      "Getting bitcoin price in:  EUR\n",
      "{'code': 'EUR', 'symbol': '&euro;', 'rate': '7,952.7122', 'description': 'Euro', 'rate_float': 7952.7122}\n",
      "Getting Bitcoin Price\n",
      "{'code': 'USD', 'symbol': '&#36;', 'rate': '8,823.1318', 'description': 'United States Dollar', 'rate_float': 8823.1318}\n",
      "Getting bitcoin price in:  GBP\n",
      "{'code': 'GBP', 'symbol': '&pound;', 'rate': '7,057.3761', 'description': 'British Pound Sterling', 'rate_float': 7057.3761}\n",
      "Getting bitcoin price in:  EUR\n",
      "{'code': 'EUR', 'symbol': '&euro;', 'rate': '7,952.7122', 'description': 'Euro', 'rate_float': 7952.7122}\n"
     ]
    }
   ],
   "source": [
    "import schedule\n",
    "import time\n",
    "import requests\n",
    "\n",
    "Uniform_Resource_Locator=\"http://api.coindesk.com/v1/bpi/currentprice.json\"\n",
    "data=requests.get(Uniform_Resource_Locator)\n",
    "input=data.json()\n",
    "\n",
    "def fetch_bitcoin():\n",
    "    print(\"Getting Bitcoin Price\")\n",
    "    result = input['bpi']['USD']\n",
    "    print(result)\n",
    "    \n",
    "def fetch_bitcoin_by_currency(x):\n",
    "    print(\"Getting bitcoin price in: \",x)\n",
    "    result=input['bpi'][x]\n",
    "    print(result)\n",
    "#time\n",
    "schedule.every(20).seconds.do(fetch_bitcoin)\n",
    "schedule.every(20).seconds.do(fetch_bitcoin_by_currency,'GBP')\n",
    "schedule.every(20).seconds.do(fetch_bitcoin_by_currency,'EUR')\n",
    "while True:\n",
    "    schedule.run_pending()\n",
    "    time.sleep(1)\n",
    "    "
   ]
  },
  {
   "cell_type": "raw",
   "metadata": {},
   "source": [
    "Synatx\n",
    "Schedule.every(n).[timeframe]\n",
    "Here n is the time interval.\n",
    "Timeframe can be – seconds, hours, days or even name of the\n",
    "Weekdays like – Sunday , Monday etc."
   ]
  },
  {
   "cell_type": "code",
   "execution_count": null,
   "metadata": {},
   "outputs": [],
   "source": []
  }
 ],
 "metadata": {
  "kernelspec": {
   "display_name": "Python 3",
   "language": "python",
   "name": "python3"
  },
  "language_info": {
   "codemirror_mode": {
    "name": "ipython",
    "version": 3
   },
   "file_extension": ".py",
   "mimetype": "text/x-python",
   "name": "python",
   "nbconvert_exporter": "python",
   "pygments_lexer": "ipython3",
   "version": "3.7.6"
  }
 },
 "nbformat": 4,
 "nbformat_minor": 4
}
