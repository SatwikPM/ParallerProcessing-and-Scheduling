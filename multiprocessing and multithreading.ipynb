{
 "cells": [
  {
   "cell_type": "markdown",
   "metadata": {},
   "source": [
    "Multiprocessing:\n",
    "Multiprocessing is a system that has more than one or two processors. In Multiprocessing, CPUs are added for increasing computing speed of the system. Because of Multiprocessing, There are many processes are executed simultaneously. Multiprocessing are classified into two categories:\n",
    "1. Symmetric Multiprocessing\n",
    "2. Asymmetric Multiprocessing "
   ]
  },
  {
   "cell_type": "markdown",
   "metadata": {},
   "source": [
    "Multithreading:\n",
    "Multithreading is a system in which multiple threads are created of a process for increasing the computing speed of the system. In multithreading, many threads of a process are executed simultaneously and process creation in multithreading is done according to economical."
   ]
  },
  {
   "cell_type": "code",
   "execution_count": 1,
   "metadata": {},
   "outputs": [
    {
     "name": "stdout",
     "output_type": "stream",
     "text": [
      "Square: 100\n",
      "Cube: 1000\n",
      "Done!\n"
     ]
    }
   ],
   "source": [
    "# Python program to illustrate the concept \n",
    "# of threading \n",
    "# importing the threading module \n",
    "import threading \n",
    "  \n",
    "def print_cube(num): #t2\n",
    "    \"\"\" \n",
    "    function to print cube of given num \n",
    "    \"\"\"\n",
    "    print(\"Cube: {}\".format(num * num * num)) \n",
    "  \n",
    "def print_square(num): #t1\n",
    "    \"\"\" \n",
    "    function to print square of given num \n",
    "    \"\"\"\n",
    "    print(\"Square: {}\".format(num * num)) \n",
    "  \n",
    "#create, queue, execution, wait, exit\n",
    "\n",
    "if __name__ == \"__main__\": #__name__ is a built-in variable which evaluates to the name of the current module\n",
    "    # creating thread \n",
    "    t1 = threading.Thread(target=print_square, args=(10,)) #Thread(taget=fun(),args=(arg1,arg2,))\n",
    "    t2 = threading.Thread(target=print_cube, args=(10,)) \n",
    "  \n",
    "    # starting thread 1 \n",
    "    t1.start() \n",
    "    # starting thread 2 \n",
    "    t2.start() \n",
    "  \n",
    "    # wait until thread 1 is completely executed \n",
    "    t1.join() \n",
    "    # wait until thread 2 is completely executed \n",
    "    t2.join() \n",
    "  \n",
    "    # both threads completely executed \n",
    "    print(\"Done!\")"
   ]
  },
  {
   "cell_type": "raw",
   "metadata": {},
   "source": [
    "# Let us try to understand the above code:\n",
    "To import the threading module, we do: \n",
    "import threading\n",
    "To create a new thread, we create an object of Thread class. It takes following arguments: \n",
    "target: the function to be executed by thread\n",
    "args: the arguments to be passed to the target function\n",
    "In above example, we created 2 threads with different target functions:\n",
    "t1 = threading.Thread(target=print_square, args=(10,))\n",
    "t2 = threading.Thread(target=print_cube, args=(10,))\n",
    "To start a thread, we use start method of Thread class. \n",
    "t1.start()\n",
    "t2.start()\n",
    "Once the threads start, the current program (you can think of it like a main thread) also keeps on executing. In order to stop execution of current program until a thread is complete, we use join method. \n",
    "t1.join()\n",
    "t2.join()"
   ]
  },
  {
   "cell_type": "code",
   "execution_count": 2,
   "metadata": {},
   "outputs": [
    {
     "name": "stdout",
     "output_type": "stream",
     "text": [
      "ID of process running main program: 84328\n",
      "Main thread name: MainThread\n",
      "Task 1 assigned to thread: t1\n",
      "ID of process running task 1: 84328\n",
      "Task 2 assigned to thread: t2\n",
      "ID of process running task 2: 84328\n"
     ]
    }
   ],
   "source": [
    "# Python program to illustrate the concept \n",
    "# of threading \n",
    "import threading \n",
    "import os \n",
    "  \n",
    "def task1(): \n",
    "    print(\"Task 1 assigned to thread: {}\".format(threading.current_thread().name)) \n",
    "    print(\"ID of process running task 1: {}\".format(os.getpid())) \n",
    "  \n",
    "def task2(): \n",
    "    print(\"Task 2 assigned to thread: {}\".format(threading.current_thread().name)) \n",
    "    print(\"ID of process running task 2: {}\".format(os.getpid())) \n",
    "  \n",
    "if __name__ == \"__main__\": \n",
    "  \n",
    "    # print ID of current process \n",
    "    print(\"ID of process running main program: {}\".format(os.getpid())) \n",
    "  \n",
    "    # print name of main thread \n",
    "    print(\"Main thread name: {}\".format(threading.current_thread().name)) \n",
    "  \n",
    "    # creating threads \n",
    "    t1 = threading.Thread(target=task1, name='t1') \n",
    "    t2 = threading.Thread(target=task2, name='t2')   \n",
    "  \n",
    "    # starting threads \n",
    "    t1.start() \n",
    "    t2.start() \n",
    "  \n",
    "    # wait until all threads finish \n",
    "    t1.join() \n",
    "    t2.join() "
   ]
  },
  {
   "cell_type": "raw",
   "metadata": {},
   "source": [
    "Let us try to understand the above code:\n",
    "We use os.getpid() function to get ID of current process. \n",
    "print(\"ID of process running main program: {}\".format(os.getpid()))\n",
    "As it is clear from the output, the process ID remains same for all threads.\n",
    "We use threading.main_thread() function to get the main thread object. In normal conditions, the main thread is the thread from which the Python interpreter was started. name attribute of thread object is used to get the name of thread. \n",
    "print(\"Main thread name: {}\".format(threading.main_thread().name))\n",
    "We use the threading.current_thread() function to get the current thread object. \n",
    "print(\"Task 1 assigned to thread: {}\".format(threading.current_thread().name))"
   ]
  },
  {
   "cell_type": "markdown",
   "metadata": {},
   "source": [
    "# What is multiprocessing?\n",
    "Multiprocessing refers to the ability of a system to support more than one processor at the same time. Applications in a multiprocessing system are broken to smaller routines that run independently. The operating system allocates these threads to the processors improving performance of the system."
   ]
  },
  {
   "cell_type": "raw",
   "metadata": {},
   "source": [
    "Why multiprocessing?\n",
    "\n",
    "\n",
    "1.multiprocessor, i.e. a computer with more than one central processor.\n",
    "2.multi-core processor, i.e. a single computing component with two or more independent actual processing units (called “cores”)."
   ]
  },
  {
   "cell_type": "code",
   "execution_count": 3,
   "metadata": {},
   "outputs": [
    {
     "name": "stdout",
     "output_type": "stream",
     "text": [
      "Done!\n"
     ]
    }
   ],
   "source": [
    "# importing the multiprocessing module \n",
    "import multiprocessing \n",
    "  \n",
    "def print_cube(num): \n",
    "    \"\"\" \n",
    "    function to print cube of given num \n",
    "    \"\"\"\n",
    "    print(\"Cube: {}\".format(num * num * num)) \n",
    "def print_square(num): \n",
    "    \"\"\" \n",
    "    function to print square of given num \n",
    "    \"\"\"\n",
    "    print(\"Square: {}\".format(num * num)) \n",
    "if __name__ == \"__main__\": \n",
    "    # creating processes \n",
    "    p1 = multiprocessing.Process(target=print_square, args=(10, )) \n",
    "    p2 = multiprocessing.Process(target=print_cube, args=(10, )) \n",
    "  \n",
    "    # starting process 1 \n",
    "    p1.start() \n",
    "    # starting process 2 \n",
    "    p2.start() \n",
    "  \n",
    "    # wait until process 1 is finished \n",
    "    p1.join() \n",
    "    # wait until process 2 is finished \n",
    "    p2.join() \n",
    "  \n",
    "    # both processes finished \n",
    "    print(\"Done!\") "
   ]
  },
  {
   "cell_type": "raw",
   "metadata": {},
   "source": [
    "output:\n",
    "Square: 100\n",
    "Cube: 1000\n",
    "Done!"
   ]
  },
  {
   "cell_type": "raw",
   "metadata": {},
   "source": [
    "Let us try to understand the above code:\n",
    "To import the multiprocessing module, we do: \n",
    "import multiprocessing\n",
    "To create a process, we create an object of Process class. It takes following arguments: \n",
    "target: the function to be executed by process\n",
    "args: the arguments to be passed to the target function\n",
    "Note: Process constructor takes many other arguments also which will be discussed later. In above example, we created 2 processes with different target functions:\n",
    "p1 = multiprocessing.Process(target=print_square, args=(10, ))\n",
    "p2 = multiprocessing.Process(target=print_cube, args=(10, ))\n",
    "To start a process, we use start method of Process class. \n",
    "p1.start()\n",
    "p2.start()\n",
    "Once the processes start, the current program also keeps on executing. In order to stop execution of current program until a process is complete, we use join method. \n",
    "p1.join()\n",
    "p2.join()\n",
    "As a result, the current program will first wait for the completion of p1 and then p2. Once, they are completed, the next statements of current program are executed."
   ]
  },
  {
   "cell_type": "code",
   "execution_count": 6,
   "metadata": {},
   "outputs": [
    {
     "name": "stdout",
     "output_type": "stream",
     "text": [
      "ID of main process: 10740\n",
      "ID of process p1: 25584\n",
      "ID of process p2: 24380\n",
      "Both processes finished execution!\n",
      "Process p1 is alive: False\n",
      "Process p2 is alive: False\n"
     ]
    }
   ],
   "source": [
    "# importing the multiprocessing module \n",
    "import multiprocessing \n",
    "import os \n",
    "  \n",
    "def worker1(): \n",
    "    # printing process id \n",
    "    print(\"ID of process running worker1: {}\".format(os.getpid())) \n",
    "  \n",
    "def worker2(): \n",
    "    # printing process id \n",
    "    print(\"ID of process running worker2: {}\".format(os.getpid())) \n",
    "  \n",
    "if __name__ == \"__main__\": \n",
    "    # printing main program process id \n",
    "    print(\"ID of main process: {}\".format(os.getpid())) \n",
    "  \n",
    "    # creating processes \n",
    "    p1 = multiprocessing.Process(target=worker1) \n",
    "    p2 = multiprocessing.Process(target=worker2) \n",
    "  \n",
    "    # starting processes \n",
    "    p1.start() \n",
    "    p2.start() \n",
    "  \n",
    "    # process IDs \n",
    "    print(\"ID of process p1: {}\".format(p1.pid)) \n",
    "    print(\"ID of process p2: {}\".format(p2.pid)) \n",
    "  \n",
    "    # wait until processes are finished \n",
    "    p1.join() \n",
    "    p2.join() \n",
    "  \n",
    "    # both processes finished \n",
    "    print(\"Both processes finished execution!\") \n",
    "  \n",
    "    # check if processes are alive \n",
    "    print(\"Process p1 is alive: {}\".format(p1.is_alive())) \n",
    "    print(\"Process p2 is alive: {}\".format(p2.is_alive())) "
   ]
  },
  {
   "cell_type": "raw",
   "metadata": {},
   "source": [
    "output:\n",
    "ID of main process: 28628\n",
    "ID of process running worker1: 29305\n",
    "ID of process running worker2: 29306\n",
    "ID of process p1: 29305\n",
    "ID of process p2: 29306\n",
    "Both processes finished execution!\n",
    "Process p1 is alive: False\n",
    "Process p2 is alive: False"
   ]
  },
  {
   "cell_type": "raw",
   "metadata": {},
   "source": [
    "The main python script has a different process ID and multiprocessing module spawns new processes with different process IDs as we create Process objects p1 and p2. In above program, we use os.getpid() function to get ID of process running the current target function. \n",
    "Notice that it matches with the process IDs of p1 and p2 which we obtain using pid attribute of Process class.\n",
    "Each process runs independently and has its own memory space. \n",
    "As soon as the execution of target function is finished, the processes get terminated. In above program we used is_alive method of Process class to check if a process is still active or not."
   ]
  },
  {
   "cell_type": "code",
   "execution_count": null,
   "metadata": {},
   "outputs": [],
   "source": []
  }
 ],
 "metadata": {
  "kernelspec": {
   "display_name": "Python 3",
   "language": "python",
   "name": "python3"
  },
  "language_info": {
   "codemirror_mode": {
    "name": "ipython",
    "version": 3
   },
   "file_extension": ".py",
   "mimetype": "text/x-python",
   "name": "python",
   "nbconvert_exporter": "python",
   "pygments_lexer": "ipython3",
   "version": "3.7.6"
  }
 },
 "nbformat": 4,
 "nbformat_minor": 4
}
